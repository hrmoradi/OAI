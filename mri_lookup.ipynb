{
 "cells": [
  {
   "cell_type": "code",
   "execution_count": null,
   "metadata": {},
   "outputs": [],
   "source": [
    "import numpy as np\n",
    "import pandas as pd\n",
    "\n",
    "import os\n",
    "\n",
    "import pydicom as pydi\n",
    "import cv2\n",
    "\n",
    "import matplotlib.pyplot as plt\n",
    "\n",
    "from utils.preprocessing import image_preprocessing"
   ]
  },
  {
   "cell_type": "code",
   "execution_count": null,
   "metadata": {},
   "outputs": [],
   "source": [
    "descript_base_dir = \"/mnt/data1/OAICompleteData_ASCII/\"\n",
    "image_base = \"/mnt/data1/OAI/00m/results/\"\n",
    "mri_file_str = \"MRI{mo}.txt\"\n",
    "visit_str = \"{0:0=2d}\""
   ]
  },
  {
   "cell_type": "code",
   "execution_count": null,
   "metadata": {},
   "outputs": [],
   "source": [
    "def filter_by_view(enrollee_pth, mri_pth, visit_id, view_query=\"SAG\"):\n",
    "    mri_info = pd.read_csv(mri_pth, sep=\"|\")\n",
    "    enrollees = pd.read_csv(enrollee_pth, sep=\"|\")\n",
    "    \n",
    "    # Column name formatters\n",
    "    view_col = \"V{id}MEXAMTP\".format(id=visit_id)\n",
    "    date_col = \"V{id}MRDATE\".format(id=visit_id)\n",
    "    \n",
    "    unique_views = [view for view in mri_info[view_col].unique() if view_query in view]\n",
    "    filtered = mri_info[mri_info[view_col].isin(unique_views)]\n",
    "    joined_set = enrollees.merge(filtered, on='ID', how='right')\n",
    "    joined_set[date_col] = pd.to_datetime(joined_set[date_col], infer_datetime_format=True)\n",
    "    return joined_set"
   ]
  },
  {
   "cell_type": "code",
   "execution_count": null,
   "metadata": {},
   "outputs": [],
   "source": [
    "def retrieve_mri(pid, cohort, time, visit_id, mri_barcode):\n",
    "    slices = []\n",
    "    mri_pth = \"/mnt/data1/OAI/{vid}m/results/{visit}.{cohort}/{pid}/{date}/{barcode}/\"\n",
    "    mri_formatted_pth = mri_pth.format(vid=visit_str.format(visit_id), visit=visit_id, cohort=cohort, pid=pid, \n",
    "                                 date=time, barcode=mri_barcode)\n",
    "\n",
    "    # Preprocessing\n",
    "    for slice_num in os.listdir(mri_formatted_pth):\n",
    "        slice_pth = os.path.join(mri_formatted_pth, slice_num)\n",
    "        img, data, img_before = image_preprocessing(slice_pth)\n",
    "        slices.append(img)\n",
    "        \n",
    "    # TODO: Save slice\n",
    "    \n",
    "    return slices"
   ]
  },
  {
   "cell_type": "code",
   "execution_count": null,
   "metadata": {},
   "outputs": [],
   "source": [
    "filtered = filter_by_view(descript_base_dir + \"Enrollees.txt\", descript_base_dir + \"MRI00.txt\", \"00\")"
   ]
  },
  {
   "cell_type": "code",
   "execution_count": null,
   "metadata": {},
   "outputs": [],
   "source": [
    "# # Filter patients\n",
    "\n",
    "# counter = 0\n",
    "# for i, row in filtered.iterrows():\n",
    "#     if counter == 0:\n",
    "#         break \n",
    "        \n",
    "#     cohort = \"C.2\" if row[\"V00CHRTHLF\"]== \"1: First half of cohort\" else \"E.1\" if row[\"V00CHRTHLF\"] == \"2: Second half of cohort\" else np.nan\n",
    "\n",
    "#     try: date = row[\"V\" + visit_str.format(0) + \"MRDATE\"].strftime(\"%Y%m%d\")\n",
    "#     except:\n",
    "#         continue\n",
    "    \n",
    "#     mri = retrieve_mri(row[\"ID\"], cohort, date, 0, str(int(row[\"V00MRBARCD\"]))[3:]) # Remove the 166 at beginning to get id\n",
    "#     pixel_array = mri.pixel_array\n",
    "#     print(\"MRI Shape:\", pixel_array.shape)\n",
    "#     plt.imshow(pixel_array, cmap=\"gray\")\n",
    "#     plt.show()\n",
    "    \n",
    "#     counter+=1"
   ]
  },
  {
   "cell_type": "code",
   "execution_count": null,
   "metadata": {},
   "outputs": [],
   "source": [
    "samp_patient = filtered.sample(4)"
   ]
  },
  {
   "cell_type": "code",
   "execution_count": null,
   "metadata": {},
   "outputs": [],
   "source": [
    "samp_patient"
   ]
  },
  {
   "cell_type": "code",
   "execution_count": null,
   "metadata": {},
   "outputs": [],
   "source": [
    "counter = 0\n",
    "for i, row in samp_patient.iterrows():\n",
    "    print(\"Row Index:\", i)\n",
    "    cohort = \"C.2\" if row[\"V00CHRTHLF\"]== \"1: First half of cohort\" else \"E.1\" if row[\"V00CHRTHLF\"] == \"2: Second half of cohort\" else np.nan\n",
    "\n",
    "    try: date = row[\"V\" + visit_str.format(0) + \"MRDATE\"].strftime(\"%Y%m%d\")\n",
    "    except:\n",
    "        continue\n",
    "    \n",
    "    slices = retrieve_mri(row[\"ID\"], cohort, date, 0, str(int(row[\"V00MRBARCD\"]))[3:]) # Remove the 166 at beginning to get id\n",
    "    \n",
    "    for j, img_slice in enumerate(slices):\n",
    "        if j > 3: # only show 3 slices per patient\n",
    "            break\n",
    "        plt.imshow(img_slice, cmap=\"gray\")\n",
    "        plt.title(str(row.ID) + \", \" + row.V00MEXAMTP + \"(\" + str(j) + \")\")\n",
    "        plt.show()\n"
   ]
  },
  {
   "cell_type": "code",
   "execution_count": null,
   "metadata": {},
   "outputs": [],
   "source": []
  }
 ],
 "metadata": {
  "kernelspec": {
   "display_name": "Python 3",
   "language": "python",
   "name": "python3"
  },
  "language_info": {
   "codemirror_mode": {
    "name": "ipython",
    "version": 3
   },
   "file_extension": ".py",
   "mimetype": "text/x-python",
   "name": "python",
   "nbconvert_exporter": "python",
   "pygments_lexer": "ipython3",
   "version": "3.6.10"
  }
 },
 "nbformat": 4,
 "nbformat_minor": 4
}
